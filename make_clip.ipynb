{
 "cells": [
  {
   "cell_type": "code",
   "execution_count": null,
   "metadata": {},
   "outputs": [],
   "source": [
    "# !pip install moviepy"
   ]
  },
  {
   "cell_type": "code",
   "execution_count": null,
   "metadata": {},
   "outputs": [],
   "source": [
    "from moviepy.editor import VideoFileClip, concatenate_videoclips"
   ]
  },
  {
   "cell_type": "code",
   "execution_count": 6,
   "metadata": {},
   "outputs": [],
   "source": [
    "def make_clip_video(path, save_path, start_t, end_t):\n",
    "    clip_video = VideoFileClip(path).subclip(start_t, end_t)\n",
    "    clip_video.write_videofile(save_path)"
   ]
  },
  {
   "cell_type": "code",
   "execution_count": 29,
   "metadata": {},
   "outputs": [],
   "source": [
    "path1 = './dataset/Training/01.원천데이터/TS_12 절도/C_3_12_25_BU_SYB_10-04_14-51-46_CA_RGB_DF2_F3.mp4'\n",
    "path2 = './dataset/Training/01.원천데이터/TS_12 절도/C_3_12_25_BU_SYB_10-04_14-51-46_CB_RGB_DF2_F3.mp4'\n",
    "path3 = './dataset/Training/01.원천데이터/TS_12 절도/C_3_12_25_BU_SYB_10-04_14-51-46_CC_RGB_DF2_F3.mp4'\n",
    "path4 = './dataset/Training/01.원천데이터/TS_12 절도/C_3_12_25_BU_SYB_10-04_14-51-46_CD_RGB_DF2_F3.mp4'"
   ]
  },
  {
   "cell_type": "code",
   "execution_count": null,
   "metadata": {},
   "outputs": [],
   "source": [
    "\n",
    "#1\n",
    "make_clip_video(path1, 'b_081_pocket_36.mp4', 22, 34)\n",
    "make_clip_video(path1, 'b_082_pocket_30.mp4', 41, 51)\n",
    "# make_clip_video(path1, 'b_060_pocket_18.mp4', 49, 55)\n",
    "make_clip_video(path1, 'b_081_normal_36.mp4', 4, 16)\n",
    "make_clip_video(path1, 'b_082_normal_30.mp4', 11, 21)\n",
    "# make_clip_video(path1, 'b_060_normal_18.mp4', 13, 19)\n",
    "\n",
    "#2\n",
    "make_clip_video(path2, 'b_083_pocket_36.mp4', 22, 34)\n",
    "make_clip_video(path2, 'b_084_pocket_30.mp4', 41, 51)\n",
    "# make_clip_video(path1, 'b_060_pocket_18.mp4', 49, 55)\n",
    "make_clip_video(path2, 'b_083_normal_36.mp4', 4, 16)\n",
    "make_clip_video(path2, 'b_084_normal_30.mp4', 11, 21)\n",
    "# make_clip_video(path1, 'b_060_normal_18.mp4', 13, 19)\n",
    "\n",
    "#3\n",
    "make_clip_video(path3, 'b_085_pocket_36.mp4', 22, 34)\n",
    "make_clip_video(path3, 'b_086_pocket_30.mp4', 41, 51)\n",
    "# make_clip_video(path1, 'b_060_pocket_18.mp4', 49, 55)\n",
    "make_clip_video(path3, 'b_085_normal_36.mp4', 4, 16)\n",
    "make_clip_video(path3, 'b_086_normal_30.mp4', 11, 21)\n",
    "# make_clip_video(path1, 'b_060_normal_18.mp4', 13, 19)\n",
    "\n",
    "#4\n",
    "make_clip_video(path4, 'b_087_pocket_36.mp4', 22, 34)\n",
    "make_clip_video(path4, 'b_088_pocket_30.mp4', 41, 51)\n",
    "# make_clip_video(path1, 'b_060_pocket_18.mp4', 49, 55)\n",
    "make_clip_video(path4, 'b_087_normal_36.mp4', 4, 16)\n",
    "make_clip_video(path4, 'b_088_normal_30.mp4', 11, 21)\n",
    "# make_clip_video(path1, 'b_060_normal_18.mp4', 13, 19)\n"
   ]
  },
  {
   "cell_type": "code",
   "execution_count": null,
   "metadata": {},
   "outputs": [],
   "source": [
    "#1\n",
    "abnormal1 = VideoFileClip(\"b_081_pocket_36.mp4\")\n",
    "abnormal2 = VideoFileClip(\"b_082_pocket_30.mp4\")\n",
    "# abnormal3 = VideoFileClip(\"b_060_pocket_18.mp4\")\n",
    "normal1 = VideoFileClip(\"b_081_normal_36.mp4\")\n",
    "normal2 = VideoFileClip(\"b_082_normal_30.mp4\")\n",
    "# normal3 = VideoFileClip(\"b_060_normal_18.mp4\")\n",
    "\n",
    "combined_a = concatenate_videoclips([abnormal1, abnormal2])\n",
    "combined_n = concatenate_videoclips([normal1, normal2])\n",
    "\n",
    "combined_a.write_videofile(\"bcom_019_pocket_66.mp4\")\n",
    "combined_n.write_videofile(\"bcom_019_normal_66.mp4\")\n",
    "\n",
    "#2\n",
    "abnormal1 = VideoFileClip(\"b_083_pocket_36.mp4\")\n",
    "abnormal2 = VideoFileClip(\"b_084_pocket_30.mp4\")\n",
    "# abnormal3 = VideoFileClip(\"b_060_pocket_18.mp4\")\n",
    "normal1 = VideoFileClip(\"b_083_normal_36.mp4\")\n",
    "normal2 = VideoFileClip(\"b_084_normal_30.mp4\")\n",
    "# normal3 = VideoFileClip(\"b_060_normal_18.mp4\")\n",
    "\n",
    "combined_a = concatenate_videoclips([abnormal1, abnormal2])\n",
    "combined_n = concatenate_videoclips([normal1, normal2])\n",
    "\n",
    "combined_a.write_videofile(\"bcom_020_pocket_66.mp4\")\n",
    "combined_n.write_videofile(\"bcom_020_normal_66.mp4\")\n",
    "\n",
    "#3\n",
    "abnormal1 = VideoFileClip(\"b_085_pocket_36.mp4\")\n",
    "abnormal2 = VideoFileClip(\"b_086_pocket_30.mp4\")\n",
    "# abnormal3 = VideoFileClip(\"b_060_pocket_18.mp4\")\n",
    "normal1 = VideoFileClip(\"b_085_normal_36.mp4\")\n",
    "normal2 = VideoFileClip(\"b_086_normal_30.mp4\")\n",
    "# normal3 = VideoFileClip(\"b_060_normal_18.mp4\")\n",
    "\n",
    "combined_a = concatenate_videoclips([abnormal1, abnormal2])\n",
    "combined_n = concatenate_videoclips([normal1, normal2])\n",
    "\n",
    "combined_a.write_videofile(\"bcom_021_pocket_66.mp4\")\n",
    "combined_n.write_videofile(\"bcom_021_normal_66.mp4\")\n",
    "\n",
    "#4\n",
    "abnormal1 = VideoFileClip(\"b_087_pocket_36.mp4\")\n",
    "abnormal2 = VideoFileClip(\"b_088_pocket_30.mp4\")\n",
    "# abnormal3 = VideoFileClip(\"b_060_pocket_18.mp4\")\n",
    "normal1 = VideoFileClip(\"b_087_normal_36.mp4\")\n",
    "normal2 = VideoFileClip(\"b_088_normal_30.mp4\")\n",
    "# normal3 = VideoFileClip(\"b_060_normal_18.mp4\")\n",
    "\n",
    "combined_a = concatenate_videoclips([abnormal1, abnormal2])\n",
    "combined_n = concatenate_videoclips([normal1, normal2])\n",
    "\n",
    "combined_a.write_videofile(\"bcom_022_pocket_66.mp4\")\n",
    "combined_n.write_videofile(\"bcom_022_normal_66.mp4\")"
   ]
  }
 ],
 "metadata": {
  "kernelspec": {
   "display_name": "ds_study",
   "language": "python",
   "name": "python3"
  },
  "language_info": {
   "codemirror_mode": {
    "name": "ipython",
    "version": 3
   },
   "file_extension": ".py",
   "mimetype": "text/x-python",
   "name": "python",
   "nbconvert_exporter": "python",
   "pygments_lexer": "ipython3",
   "version": "3.8.12"
  },
  "orig_nbformat": 4
 },
 "nbformat": 4,
 "nbformat_minor": 2
}
